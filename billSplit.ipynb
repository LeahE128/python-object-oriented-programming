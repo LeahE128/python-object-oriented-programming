{
 "cells": [
  {
   "cell_type": "markdown",
   "metadata": {},
   "source": [
    "For the classes, I designed my program based on three classes, Participant, Transaction and Event.\n",
    "\n",
    "In the Participant Class, I defined three instance attributes, name of participant, the balance of each participant and what each participant would pay.\n",
    "\n",
    "I decided on having a Transaction class as it made sense to keep all transaction information in this class and to create the methods for which the balancing of the kitty would occur. Based on an output that Professor Pádraig showed us I went with instance attributes of items of transaction, event of transaction, cost of transaction and \n",
    "the payee in transaction. \n",
    "\n",
    "The event class had an event name and participants who would be joining the event so that no one not joining the event could be added to the transactions.\n",
    "\n",
    "Within the events class I added all the calculation methods as the transactions were added from within the event class.\n",
    "\n",
    "addTrans() method is where I added the participants to the transactions if they were part of the event.\n",
    "I did some error handling in here aswell by making sure the number added was not negative.\n",
    "\n",
    "totalCost() was just a case of loping through all the transactions that were appended in addTrans and adding the cost of what each person paid together to get a total number of what was paid for the event.\n",
    "\n",
    "balance_Kitty() is below."
   ]
  },
  {
   "cell_type": "markdown",
   "metadata": {},
   "source": [
    "\n",
    "Balance_Kitty:\n",
    "This was my Pseudocode for calculating the balancing of the kitty, i.e who owed who what.\n",
    "\n",
    "My approach was to find the person who paid the least amount to pay the person who paid the most amount and then \n",
    "work from there, when the person who paid the least paid the person who paid the most, the list would change \n",
    "and the next person who paid the least would pay the next person who paid the second most and so on \n",
    "until there was no one left to be paid.\n",
    "\n",
    "One caveat I had to think of was if the person who paid the most didn't \n",
    "receive all their share after the person who paid the least paid them, if they still had money owed to them,\n",
    "I put them back in the list.\n",
    "\n",
    "\n",
    "\n",
    "PseudoCode\n",
    "#keep list of all numbers and sort with ascending order\n",
    "#I'm doing all steps below using a while loop...while length of list > 1\n",
    "#sort with ascending order\n",
    "#get min of list\n",
    "#then find person who has min balance\n",
    "#get max of list \n",
    "#find person with max balance\n",
    "#the min person pays max person\n",
    "#remove min from list \n",
    "#remove max from list\n",
    "#find diff between max and abs(min) , if  bigger than 0 put back to list\n",
    "#always pay min to max, and remove the min, which will be zero, if min and max are same, remove also max\n",
    "#update max and min in participant objects "
   ]
  },
  {
   "cell_type": "code",
   "execution_count": 1,
   "metadata": {},
   "outputs": [],
   "source": [
    "\n",
    "\n",
    "class Participant:\n",
    "    def __init__(self, name):\n",
    "        self.name = name\n",
    "        self.paid = 0\n",
    "        self.bal = 0\n",
    "\n",
    "class Transaction:\n",
    "    def __init__ (self, item, event, cost, payee):\n",
    "        self.item = item\n",
    "        self.event = event\n",
    "        self.cost = cost\n",
    "        self.payee = payee\n",
    "        self.payee.paid += cost\n",
    "\n",
    "class Event:\n",
    "    def __init__(self, eventName, participants):\n",
    "        self.eventName = eventName\n",
    "        self.participants = participants\n",
    "        self.namePayee = 0\n",
    "        self.namePayer = 0\n",
    "        self.trans = []\n",
    "\n",
    "    def addTrans(self, item, cost, payee):\n",
    "        if cost < 0:\n",
    "            print('Amount must be a positive integer')\n",
    "            return\n",
    "        if payee in self.participants:\n",
    "            trans1 = Transaction(self, item, cost, payee)\n",
    "            self.trans.append(trans1)\n",
    "        else:\n",
    "            print('Payee is not part-taking in the event')\n",
    "\n",
    "    def totalCost(self):\n",
    "        total = 0\n",
    "        for i in self.trans:\n",
    "            total = total + i.cost\n",
    "        return total\n",
    "\n",
    "    def balance_kitty(self):\n",
    "        total = self.totalCost()\n",
    "        allParts = self.participants\n",
    "        median = total/len(allParts)\n",
    "        print('Total is:','€',total, 'that is','€', \"{:.2f}\".format(median))\n",
    "        allBalances = []\n",
    "        paidLeast = 0\n",
    "        paidMost = 0\n",
    "       \n",
    "  \n",
    "        for p in allParts:\n",
    "            p.bal = p.paid - median\n",
    "            if p.bal < 0:\n",
    "                print(p.name,'has a negative balance',' of €', \"{:.2f}\".format(p.bal))\n",
    "            else:\n",
    "                print(p.name,'has a positive balance',' of €', \"{:.2f}\".format(p.bal))\n",
    "  \n",
    "        for p in allParts:\n",
    "            allBalances.append(p.bal)\n",
    "        \n",
    "       \n",
    "        while len(allBalances) > 1:\n",
    "            allBalances.sort()\n",
    "            paidLeast = allBalances[0]\n",
    "            paidMost = allBalances[-1]\n",
    "            for p in allParts:\n",
    "                if paidLeast == p.bal:\n",
    "                    payer = p\n",
    "                if paidMost == p.bal:\n",
    "                    payee = p\n",
    "            print(payer.name, 'owes', payee.name,'€',\"{:.2f}\".format(abs(paidLeast)))\n",
    "            payer.bal = 0\n",
    "            payee.bal = paidMost + paidLeast\n",
    "            allBalances.pop(0)\n",
    "            allBalances.pop(len(allBalances)-1)\n",
    "            allBalances.append(payee.bal)\n",
    "\n"
   ]
  },
  {
   "cell_type": "code",
   "execution_count": 2,
   "metadata": {},
   "outputs": [
    {
     "name": "stdout",
     "output_type": "stream",
     "text": [
      "Total is: € 290 that is € 96.67\n",
      "Annie has a positive balance  of € 83.33\n",
      "Bill has a negative balance  of € -61.67\n",
      "Sally has a negative balance  of € -21.67\n",
      "Bill owes Annie € 61.67\n",
      "Sally owes Annie € 21.67\n"
     ]
    }
   ],
   "source": [
    "a = Participant('Annie')\n",
    "b = Participant('Bill')\n",
    "s = Participant('Sally')\n",
    "m = Participant('Mike')\n",
    "\n",
    "concert = Event ('U2', [a,b,s])\n",
    "\n",
    "concert.addTrans('tickets', 180, a)\n",
    "concert.addTrans('parking', 75, s)\n",
    "concert.addTrans('sweets', 19, b)\n",
    "concert.addTrans('sweets', 16, b)\n",
    "\n",
    "concert.totalCost()\n",
    "concert.balance_kitty()\n"
   ]
  },
  {
   "cell_type": "code",
   "execution_count": 3,
   "metadata": {},
   "outputs": [
    {
     "name": "stdout",
     "output_type": "stream",
     "text": [
      "Total is: € 365 that is € 91.25\n",
      "Nora has a positive balance  of € 18.75\n",
      "Eva has a negative balance  of € -31.25\n",
      "Harry has a negative balance  of € -21.25\n",
      "Frankie has a positive balance  of € 33.75\n",
      "Eva owes Frankie € 31.25\n",
      "Harry owes Nora € 21.25\n",
      "Nora owes Frankie € 2.50\n"
     ]
    }
   ],
   "source": [
    "n = Participant('Nora')\n",
    "e = Participant('Eva')\n",
    "f = Participant('Frankie')\n",
    "h = Participant('Harry')\n",
    "\n",
    "weekend = Event ('Donegal', [n,e,h,f])\n",
    "\n",
    "weekend.addTrans('dinner', 110, n)\n",
    "weekend.addTrans('lunch', 60, e)\n",
    "weekend.addTrans('dinner', 125, f)\n",
    "weekend.addTrans('lunch', 70, h)\n",
    "\n",
    "weekend.totalCost()\n",
    "weekend.balance_kitty()"
   ]
  },
  {
   "cell_type": "code",
   "execution_count": 4,
   "metadata": {},
   "outputs": [
    {
     "name": "stdout",
     "output_type": "stream",
     "text": [
      "Total is: € 141 that is € 47.00\n",
      "Cathy has a negative balance  of € -14.00\n",
      "Robyn has a positive balance  of € 13.00\n",
      "Jen has a positive balance  of € 1.00\n",
      "Cathy owes Robyn € 14.00\n",
      "Robyn owes Jen € 1.00\n"
     ]
    }
   ],
   "source": [
    "c = Participant('Cathy')\n",
    "r = Participant('Robyn')\n",
    "j = Participant('Jen')\n",
    "\n",
    "\n",
    "cinema = Event ('Jaws', [c,r,j])\n",
    "\n",
    "cinema.addTrans('tickets', 33, c)\n",
    "cinema.addTrans('dinner', 60, r)\n",
    "cinema.addTrans('drinks', 21, j)\n",
    "cinema.addTrans('taxi', 27, j)\n",
    "\n",
    "cinema.totalCost()\n",
    "cinema.balance_kitty()"
   ]
  },
  {
   "cell_type": "code",
   "execution_count": null,
   "metadata": {},
   "outputs": [],
   "source": []
  }
 ],
 "metadata": {
  "kernelspec": {
   "display_name": "Python 3",
   "language": "python",
   "name": "python3"
  },
  "language_info": {
   "codemirror_mode": {
    "name": "ipython",
    "version": 3
   },
   "file_extension": ".py",
   "mimetype": "text/x-python",
   "name": "python",
   "nbconvert_exporter": "python",
   "pygments_lexer": "ipython3",
   "version": "3.8.1"
  }
 },
 "nbformat": 4,
 "nbformat_minor": 4
}
